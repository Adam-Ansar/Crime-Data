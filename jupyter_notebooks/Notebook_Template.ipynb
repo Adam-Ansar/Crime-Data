{
 "cells": [
  {
   "cell_type": "markdown",
   "metadata": {
    "id": "0aStgWSO0E0E"
   },
   "source": [
    "# Analysis of Gun-Related Suicides in the United States\n",
    "\n",
    "## Introduction\n",
    "\n",
    "Gun-related suicides represent a significant portion of firearm-related deaths in the United States, posing a critical public health challenge. Understanding the factors contributing to these tragic events is essential for developing effective prevention strategies. This notebook aims to analyze gun-related suicides using a comprehensive dataset to uncover patterns, trends, and potential risk factors associated with these incidents. By conducting a thorough analysis, we hope to provide insights that can inform policy decisions, public health interventions, and further research.\n",
    "\n",
    "### Hypotheses\n",
    "\n",
    "1. **Hypothesis 1**: Suicide rates are higher for individuals with lower education levels.\n",
    "    \n",
    "2. **Hypothesis 2**: Gun-related suicides peak in winter months.\n",
    "\n",
    "3. **Hypothesis 3:** Gun-related suicide tends to increase as age increases.\n",
    "   \n",
    "\n",
    "### Dataset Description\n",
    "\n",
    "The dataset used in this analysis contains detailed information on gun-related deaths in the United States. The variables include:\n",
    "- **Year**: The year in which the death occurred.\n",
    "- **Month**: The month in which the death occurred.\n",
    "- **Intent**: The intent of the death (e.g., Suicide, Homicide, Accidental).\n",
    "- **Police**: Whether a police officer was involved in the death.\n",
    "- **Sex**: The gender of the deceased.\n",
    "- **Age**: The age of the deceased.\n",
    "- **Race**: The race of the deceased.\n",
    "- **Place**: The location where the death occurred.\n",
    "- **Education**: The education level of the deceased.\n",
    "\n",
    "### Ethical Considerations\n",
    "\n",
    "Given the sensitive nature of the data, it is crucial to handle it with care and ensure that all analyses are conducted ethically. This includes:\n",
    "- **Privacy and Confidentiality**: Ensuring that the data is anonymized and does not contain any personally identifiable information (PII).\n",
    "- **Data Accuracy and Integrity**: Ensuring the accuracy and integrity of the data to avoid misleading conclusions.\n",
    "- **Bias and Fairness**: Recognizing and addressing any potential biases in the dataset to ensure a fair analysis.\n",
    "- **Ethical Reporting**: Presenting the findings transparently and avoiding any manipulation of data to support a particular hypothesis.\n",
    "\n",
    "### Structure of the Notebook\n",
    "\n",
    "The notebook is structured into several sections, each focusing on a specific aspect of the analysis:\n",
    "1. **Data Loading and Exploration**: Importing the dataset and performing initial exploration.\n",
    "2. **Data Cleaning and Refinement**: Cleaning the data to ensure accuracy and reliability.\n",
    "3. **Preliminary Analysis and Visualizations**: Conducting surface-level analysis and creating visualizations.\n",
    "4. **Hypothesis Testing**: Formulating and testing hypotheses related to gun-related suicides.\n",
    "5. **Conclusions and Policy Recommendations**: Summarizing the findings and providing policy recommendations based on the analysis.\n",
    "\n",
    "By following this structured approach, we aim to provide a comprehensive analysis of gun-related suicides in the United States, uncovering key insights and contributing to the ongoing efforts to address this critical public health issue.\n",
    "\n",
    "### Streamlit Dashboard\n",
    "\n",
    "To make the analysis interactive and accessible, we have also created a Streamlit dashboard. The dashboard allows users to explore the data, visualize trends, and interact with the findings in real-time.\n"
   ]
  },
  {
   "cell_type": "markdown",
   "metadata": {
    "id": "1eLEkw5O0ECa"
   },
   "source": [
    "## Objectives\n",
    "\n",
    "1. **Load the Dataset**: Import the necessary CSV files into dataframes.\n",
    "2. **Explore the Data**: Perform initial exploration to understand the structure and content of the data.\n",
    "3. **Data Cleaning and Refinement**: Clean the data by handling missing values, correcting data types, and refining the dataset for analysis.\n",
    "4. **Surface Level Analysis**: Conduct preliminary analysis to identify trends, patterns, and key statistics.\n",
    "5. **Basic Visualizations**: Create visual representations of the data to aid in understanding and communicating findings.\n",
    "\n",
    "## Inputs\n",
    "\n",
    "* `gun_deaths.csv`: The dataset containing information on gun-related deaths, including variables such as year, month, intent, police involvement, sex, age, race, place, and education.\n",
    "* `age_bins`: List of age ranges used for categorizing age groups.\n",
    "* `age_labels`: List of labels corresponding to the age bins.\n",
    "* `days_in_month`: Dictionary containing the number of days in each month for accurate comparison in seasonal analysis.\n",
    "## Outputs\n",
    "\n",
    "## Outputs\n",
    "\n",
    "* `cleaned_gun_deaths.csv`: The cleaned dataset after handling missing values, correcting data types, and refining the dataset.\n",
    "* `age_group_table`: Contingency table for age groups vs. suicide counts.\n",
    "* `education_intent_table`: Contingency table for education levels vs. intent.\n",
    "* `monthly_suicide_df`: DataFrame containing monthly suicide counts and daily averages.\n",
    "* `season_data`: DataFrame containing suicide counts and daily averages by season.\n",
    "* `age_suicide_df`: DataFrame containing suicide counts, rates, and population distribution by age group.\n",
    "\n",
    "## Additional Comments\n",
    "\n",
    "## Objectives\n",
    "\n",
    "1. **Load the Dataset**: Import the necessary CSV files into dataframes.\n",
    "2. **Explore the Data**: Perform initial exploration to understand the structure and content of the data.\n",
    "3. **Data Cleaning and Refinement**: Clean the data by handling missing values, correcting data types, and refining the dataset for analysis.\n",
    "4. **Surface Level Analysis**: Conduct preliminary analysis to identify trends, patterns, and key statistics.\n",
    "5. **Basic Visualizations**: Create visual representations of the data to aid in understanding and communicating findings.\n",
    "\n",
    "## Inputs\n",
    "\n",
    "* `gun_deaths.csv`: The dataset containing information on gun-related deaths, including variables such as year, month, intent, police involvement, sex, age, race, place, and education.\n",
    "* `age_bins`: List of age ranges used for categorizing age groups.\n",
    "* `age_labels`: List of labels corresponding to the age bins.\n",
    "* `days_in_month`: Dictionary containing the number of days in each month for accurate comparison in seasonal analysis.\n",
    "\n",
    "## Outputs\n",
    "\n",
    "* `cleaned_gun_deaths.csv`: The cleaned dataset after handling missing values, correcting data types, and refining the dataset.\n",
    "* `age_group_table`: Contingency table for age groups vs. suicide counts.\n",
    "* `education_intent_table`: Contingency table for education levels vs. intent.\n",
    "* `monthly_suicide_df`: DataFrame containing monthly suicide counts and daily averages.\n",
    "* `season_data`: DataFrame containing suicide counts and daily averages by season.\n",
    "* `age_suicide_df`: DataFrame containing suicide counts, rates, and population distribution by age group.\n",
    "\n",
    "## Additional Comments\n",
    "\n",
    "* Ensure that all data cleaning steps are thoroughly documented to maintain transparency.\n",
    "* When interpreting statistical test results, consider the practical significance in addition to the statistical significance.\n",
    "* Visualizations should be clear and include appropriate labels, titles, and legends to enhance understanding.\n",
    "* Ethical considerations should be kept in mind throughout the analysis, especially when dealing with sensitive data related to gun-related deaths.\n",
    "\n"
   ]
  },
  {
   "cell_type": "markdown",
   "metadata": {
    "id": "9uWZXH9LwoQg"
   },
   "source": [
    "---"
   ]
  },
  {
   "cell_type": "markdown",
   "metadata": {
    "id": "cqP-UeN-z3i2"
   },
   "source": [
    "# Change working directory"
   ]
  },
  {
   "cell_type": "markdown",
   "metadata": {},
   "source": [
    "* We are assuming you will store the notebooks in a subfolder, therefore when running the notebook in the editor, you will need to change the working directory"
   ]
  },
  {
   "cell_type": "markdown",
   "metadata": {
    "id": "aOGIGS-uz3i2"
   },
   "source": [
    "We need to change the working directory from its current folder to its parent folder\n",
    "* We access the current directory with os.getcwd()"
   ]
  },
  {
   "cell_type": "code",
   "execution_count": 1,
   "metadata": {
    "id": "wZfF_j-Bz3i4",
    "outputId": "66943449-1436-4c3d-85c7-b85f9f78349b"
   },
   "outputs": [
    {
     "data": {},
     "execution_count": 1,
     "metadata": {},
     "output_type": "execute_result"
    }
   ],
   "source": [
    "import os\n",
    "current_dir = os.getcwd()\n",
    "current_dir"
   ]
  },
  {
   "cell_type": "markdown",
   "metadata": {
    "id": "9MWW8E7lz3i7"
   },
   "source": [
    "We want to make the parent of the current directory the new current directory\n",
    "* os.path.dirname() gets the parent directory\n",
    "* os.chir() defines the new current directory"
   ]
  },
  {
   "cell_type": "code",
   "execution_count": 2,
   "metadata": {
    "id": "TwHsQRWjz3i9",
    "outputId": "86849db3-cd2f-4cc5-ebb8-2d0caafa1a2c"
   },
   "outputs": [
    {
     "name": "stdout",
     "output_type": "stream",
     "text": []
    }
   ],
   "source": [
    "os.chdir(os.path.dirname(current_dir))\n",
    "print(\"You set a new current directory\")"
   ]
  },
  {
   "cell_type": "markdown",
   "metadata": {
    "id": "M_xPk_Ijz3i-"
   },
   "source": [
    "Confirm the new current directory"
   ]
  },
  {
   "cell_type": "code",
   "execution_count": 3,
   "metadata": {
    "id": "vz3S-_kjz3jA",
    "outputId": "00b79ae4-75d0-4a96-d193-ac9ef9847ea2"
   },
   "outputs": [
    {
     "data": {},
     "execution_count": 3,
     "metadata": {},
     "output_type": "execute_result"
    }
   ],
   "source": [
    "current_dir = os.getcwd()\n",
    "current_dir"
   ]
  },
  {
   "cell_type": "code",
   "execution_count": 4,
   "metadata": {},
   "outputs": [
    {
     "name": "stdout",
     "output_type": "stream",
     "text": []
    }
   ],
   "source": [
    "import os\n",
    "\n",
    "# Check if the file exists in the current directory\n",
    "file_path = os.path.join(current_dir, 'gun_deaths.csv')\n",
    "if os.path.exists(file_path):\n",
    "    print(\"File exists\")\n",
    "else:\n",
    "    print(\"File does not exist\")"
   ]
  },
  {
   "cell_type": "markdown",
   "metadata": {
    "id": "-mavJ8DibrcQ"
   },
   "source": [
    "# Section 1"
   ]
  },
  {
   "cell_type": "markdown",
   "metadata": {},
   "source": [
    "## Data Exploration, Cleaning, and Refinement\n",
    "\n",
    "### Data Exploration\n",
    "Data exploration is the first step and usually involves exploring the data, seeing its structure and how it is presented. This step includes:\n",
    "1. **Loading the Dataset**:\n",
    "2. **Initial Exploration**: \n",
    "3. **Summary Statistics**: \n",
    "4. **Identifying Missing Values**: \n",
    "5. **Identifying Duplicate Rows**: \n",
    "\n",
    "It is important to take these steps as it may ruin our analysis and therefore affect our findings.\n",
    "\n",
    "### Data Cleaning\n",
    "Data cleaning involves handling issues identified during exploration to ensure the dataset is accurate and reliable. This step includes:\n",
    "1. **Handling Missing Values**: \n",
    "2. **Removing Duplicate Rows**: \n",
    "3. **Correcting Data Types**: \n",
    "\n",
    "### Data Refinement\n",
    "Data refinement involves further processing the cleaned dataset to prepare it for analysis. This step includes:\n",
    "1. **Feature Engineering**: \n",
    "2. **Normalization and Scaling**:\n",
    "3. **Encoding Categorical Variables**: "
   ]
  },
  {
   "cell_type": "markdown",
   "metadata": {},
   "source": [
    "## Ethical Considerations\n",
    "\n",
    "### Privacy and Confidentiality\n",
    "The dataset contains sensitive information about individuals who have died due to gun-related incidents. It is crucial to ensure that the data is anonymized and does not contain any personally identifiable information (PII). In this dataset, all personal identifiers have been removed, and only aggregated data is used for analysis.\n",
    "\n",
    "### Data Accuracy and Integrity\n",
    "Ensuring the accuracy and integrity of the data is essential to avoid misleading conclusions. During the data cleaning process, we handled missing values, corrected data types, and removed duplicate rows to maintain the dataset's reliability.\n",
    "\n",
    "### Handling Outliers\n",
    "Outliers can significantly impact the results of the analysis. In this dataset, outliers in the age column were identified using Z-scores. However, since these outliers represent real ages of victims, they were retained to avoid skewing the results and to maintain the integrity of the data.\n",
    "\n",
    "### Bias and Fairness\n",
    "It is important to recognize and address any potential biases in the dataset. For instance, the dataset may have inherent biases based on the demographic distribution of the data. To mitigate this, we conducted a thorough exploration and cleaning process to ensure that the analysis is as unbiased as possible.\n",
    "\n",
    "### Ethical Reporting\n",
    "When reporting the findings, it is essential to present the results transparently and avoid any manipulation of data to support a particular hypothesis. The analysis and visualizations are conducted objectively, and the results are reported accurately.\n",
    "\n",
    "### Overcoming Ethical Issues\n",
    "1. **Anonymization**: Ensured that the dataset does not contain any PII.\n",
    "2. **Data Cleaning**: Handled missing values, corrected data types, and removed duplicates to maintain data integrity.\n",
    "3. **Outlier Handling**: Retained outliers that represent real data to avoid skewing results.\n",
    "4. **Bias Mitigation**: Conducted thorough data exploration and cleaning to minimize biases.\n",
    "5. **Transparent Reporting**: Presented findings objectively and accurately without manipulating data.\n",
    "\n",
    "By addressing these ethical considerations, we aim to conduct a responsible and unbiased analysis of the dataset.\n"
   ]
  },
  {
   "cell_type": "code",
   "execution_count": null,
   "metadata": {},
   "outputs": [],
   "source": [
    "\n",
    "# Importing the required libraries\n",
    "import pandas as pd \n",
    "import numpy as np\n",
    "import matplotlib.pyplot as plt\n",
    "import seaborn as sns\n",
    "import scipy.stats as stats\n",
    "import statsmodels.api as sm\n",
    "import streamlit as st\n",
    "import ipywidgets as widgets\n",
    "from IPython.display import display\n"
   ]
  },
  {
   "cell_type": "markdown",
   "metadata": {},
   "source": [
    "Importing the required libraries is essential and the foundation of any data analysis of a dataset. Each library serves a specific purpose:\n",
    "\n",
    "- **pandas**: Provides data structures and data analysis tools for handling and manipulating structured data.\n",
    "- **numpy**: Supports large, multi-dimensional arrays and matrices, along with a collection of mathematical functions to operate on these arrays.\n",
    "- **matplotlib**: A plotting library used for creating static, interactive, and animated visualizations in Python.\n",
    "- **seaborn**: Built on top of matplotlib, it provides a high-level interface for drawing attractive and informative statistical graphics.\n",
    "- **scipy.stats**: Contains a large number of probability distributions and statistical functions for hypothesis testing and other statistical analyses.\n",
    "- **statsmodels**: Provides classes and functions for the estimation of many different statistical models, as well as for conducting statistical tests and data exploration.\n",
    "- **streamlit**: A framework for creating interactive web applications for data science and machine learning projects with minimal effort.\n",
    "- **ipywidgets**: Provides interactive HTML widgets for Jupyter notebooks, enabling interactive data visualization and manipulation."
   ]
  },
  {
   "cell_type": "code",
   "execution_count": 6,
   "metadata": {},
   "outputs": [
    {
     "name": "stdout",
     "output_type": "stream",
     "text": []
    }
   ],
   "source": [
    "# Load the dataset\n",
    "data = pd.read_csv('gun_deaths.csv')\n",
    "\n",
    "# Display the first 5 rows of the dataset\n",
    "data.head()\n"
   ]
  },
  {
   "cell_type": "code",
   "execution_count": 7,
   "metadata": {},
   "outputs": [
    {
     "name": "stdout",
     "output_type": "stream",
     "text": []
    }
   ],
   "source": [
    "# Get a summary of the dataset\n",
    "data.info()"
   ]
  },
  {
   "cell_type": "code",
   "execution_count": 8,
   "metadata": {},
   "outputs": [
    {
     "name": "stdout",
     "output_type": "stream",
     "text": []
    }
   ],
   "source": [
    "# Get descriptive statistics for the dataset because the data is numerical\n",
    "data.describe()\n"
   ]
  },
  {
   "cell_type": "code",
   "execution_count": 9,
   "metadata": {},
   "outputs": [
    {
     "name": "stdout",
     "output_type": "stream",
     "text": []
    }
   ],
   "source": [
    "# Check for missing values as it may affect the analysis\n",
    "missing_values = data.isnull().sum()\n",
    "missing_values"
   ]
  },
  {
   "cell_type": "markdown",
   "metadata": {},
   "source": [
    "Their are a considerable amount of missing values in the age, place and education section that will affect analysis, therefore, we will drop the rows with missing variables."
   ]
  },
  {
   "cell_type": "code",
   "execution_count": 10,
   "metadata": {},
   "outputs": [
    {
     "name": "stdout",
     "output_type": "stream",
     "text": []
    }
   ],
   "source": [
    "# Check for duplicate rows in the dataset\n",
    "duplicate_rows = data.duplicated().sum()\n",
    "duplicate_rows"
   ]
  },
  {
   "cell_type": "markdown",
   "metadata": {},
   "source": [
    "The code above demonstrates that their is 39227 duplicated rows in the dataset which presents a serious issue, therefore we must remove any duplications in the data cleaning process to provide accurate results in our hypothesis testing."
   ]
  },
  {
   "cell_type": "code",
   "execution_count": 11,
   "metadata": {},
   "outputs": [
    {
     "name": "stdout",
     "output_type": "stream",
     "text": []
    }
   ],
   "source": [
    "# Calculate the Z-scores for the numerical columns\n",
    "z_scores = np.abs(stats.zscore(data.select_dtypes(include=[np.number])))\n",
    "\n",
    "# Define a threshold for identifying outliers\n",
    "threshold = 2.5\n",
    "\n",
    "outliers = data[(z_scores > threshold).any(axis=1)]\n",
    "\n",
    "# Display the Z-scores and the outliers\n",
    "print(outliers)  # Explicitly print the DataFrame\n"
   ]
  },
  {
   "cell_type": "markdown",
   "metadata": {},
   "source": [
    "\n",
    "After running a Z test, the outliers detected are in the age section, their are three main ways to address this:\n",
    "\n",
    "1. **Drop the outliers**\n",
    "2. **Keep the outliers**\n",
    "3. **Replace the values with a statistical method using the mean, mode, or median**\n",
    "\n",
    "However, the outliers will be kept, due to the fact that they are real data. The outlier ages are actual ages of victims of gun-related deaths. Another reason is because removing them would askew the resuls, purposely removing real ages of victims due to falling outside the median can be percieved as a form of manipulation of the data."
   ]
  },
  {
   "cell_type": "markdown",
   "metadata": {},
   "source": [
    "## Begin Data Cleaning and Refinement\n"
   ]
  },
  {
   "cell_type": "code",
   "execution_count": 12,
   "metadata": {},
   "outputs": [
    {
     "name": "stdout",
     "output_type": "stream",
     "text": []
    }
   ],
   "source": [
    "# Drop duplicate rows in the dataset\n",
    "data = data.drop_duplicates()\n",
    "\n",
    "# Check for duplicate rows in the dataset\n",
    "duplicate_rows = data.duplicated().sum()\n",
    "duplicate_rows\n"
   ]
  },
  {
   "cell_type": "markdown",
   "metadata": {},
   "source": [
    "Now acting upon the findings found during the data exploration, the duplicated rows have been dropped. "
   ]
  },
  {
   "cell_type": "code",
   "execution_count": 13,
   "metadata": {},
   "outputs": [],
   "source": [
    "# Drop rows with missing values in 'intent' column\n",
    "data = data.dropna(subset=['intent'])\n",
    "\n",
    "# Drop rows with missing values in 'age' column\n",
    "data = data.dropna(subset=['age'])\n",
    "\n",
    "# Drop rows with missing values in 'place' column\n",
    "data = data.dropna(subset=['place'])\n",
    "\n",
    "# Drop rows with missing values in 'education' column\n",
    "data = data.dropna(subset=['education'])\n",
    "\n"
   ]
  },
  {
   "cell_type": "markdown",
   "metadata": {},
   "source": [
    "The rows with missing values has been dropped."
   ]
  },
  {
   "cell_type": "code",
   "execution_count": 14,
   "metadata": {},
   "outputs": [],
   "source": [
    "# Correcting data types\n",
    "data['year'] = data['year'].astype('category')\n",
    "data['month'] = data['month'].astype('category')\n",
    "data['police'] = data['police'].astype('category')\n",
    "data['sex'] = data['sex'].astype('category')\n",
    "data['race'] = data['race'].astype('category')\n",
    "data['place'] = data['place'].astype('category')\n",
    "data['education'] = data['education'].astype('category')\n"
   ]
  },
  {
   "cell_type": "code",
   "execution_count": 15,
   "metadata": {},
   "outputs": [
    {
     "name": "stdout",
     "output_type": "stream",
     "text": []
    }
   ],
   "source": [
    "# Double-check if the data types have been corrected\n",
    "data.info()"
   ]
  },
  {
   "cell_type": "code",
   "execution_count": 16,
   "metadata": {},
   "outputs": [
    {
     "name": "stdout",
     "output_type": "stream",
     "text": []
    }
   ],
   "source": [
    "# Check if data is cleaned\n",
    "missing_values = data.isnull().sum()\n",
    "print (missing_values)"
   ]
  },
  {
   "cell_type": "code",
   "execution_count": 17,
   "metadata": {},
   "outputs": [
    {
     "name": "stdout",
     "output_type": "stream",
     "text": []
    }
   ],
   "source": [
    "# Drop homicide rows from the dataset as our hypothesis is not about homicide\n",
    "data = data[data['intent'] != 'Homicide']\n",
    "\n",
    "# Check first 5 rows of the dataset\n",
    "data.head()"
   ]
  },
  {
   "cell_type": "markdown",
   "metadata": {},
   "source": [
    "Data cleaning is now sufficient and I can now proceed to test and analyse the data."
   ]
  },
  {
   "cell_type": "code",
   "execution_count": 18,
   "metadata": {},
   "outputs": [],
   "source": [
    "# Save the cleaned dataset and proceed to the next step\n",
    "data.to_csv('cleaned_gun_deaths.csv')"
   ]
  },
  {
   "cell_type": "markdown",
   "metadata": {
    "id": "ZY3l0-AxO93d"
   },
   "source": [
    "---"
   ]
  },
  {
   "cell_type": "markdown",
   "metadata": {
    "id": "uFQo3ycuO-v6"
   },
   "source": [
    "# Section 2: Hypothesis testing."
   ]
  },
  {
   "cell_type": "markdown",
   "metadata": {},
   "source": [
    "Now that the data has been explored, cleaned and now refined, we can begin our hypothesis."
   ]
  },
  {
   "cell_type": "code",
   "execution_count": 19,
   "metadata": {},
   "outputs": [],
   "source": [
    "# Load the cleaned dataset\n",
    "data = pd.read_csv('cleaned_gun_deaths.csv')"
   ]
  },
  {
   "cell_type": "markdown",
   "metadata": {},
   "source": [
    "Hypothesis 1: Suicide rates are higher for individuals with lower education levels.\n",
    "\n",
    "This hypothesis examines the relationship between educational attainment and suicide rates. Prior research suggests that socioeconomic factors, including education level, can significantly impact mental health outcomes and suicide risk. Studies have shown that individuals with lower educational attainment often face greater economic hardships, limited access to mental health resources, and potentially fewer coping mechanisms for dealing with life stressors.\n",
    "\n",
    "By analyzing the distribution of gun-related suicides across different education categories, we can determine whether there is a significant association between educational attainment and suicide risk. If the hypothesis is supported, this would highlight the importance of targeting suicide prevention efforts toward communities with lower educational attainment and developing interventions that address the specific challenges and risk factors faced by these populations."
   ]
  },
  {
   "cell_type": "code",
   "execution_count": 20,
   "metadata": {},
   "outputs": [
    {
     "name": "stdout",
     "output_type": "stream",
     "text": []
    }
   ],
   "source": [
    "# Filter data for suicide intent only\n",
    "suicide_data = data[data['intent'] == 'Suicide']\n",
    "\n",
    "# Count the number of suicides for each education level\n",
    "suicide_counts = suicide_data['education'].value_counts().sort_index()\n",
    "\n",
    "# Display suicide counts by education level\n",
    "print(\"Suicide counts by education level:\")\n",
    "print(suicide_counts)\n",
    "\n",
    "# Create a contingency table for education vs intent\n",
    "# Since we need to analyze rate, we need to compare with the total population distribution\n",
    "# First, create the observed frequencies table\n",
    "education_intent_table = pd.crosstab(data['education'], data['intent'])\n",
    "print(\"\\nContingency table:\")\n",
    "print(education_intent_table)\n",
    "\n",
    "# Perform chi-square test \n",
    "chi2, p, dof, expected = stats.chi2_contingency(education_intent_table)\n",
    "\n",
    "print(\"\\nChi-square test results:\")\n",
    "print(f\"Chi-square statistic: {chi2:.4f}\")\n",
    "print(f\"p-value: {p:.8e}\")\n",
    "print(f\"Degrees of freedom: {dof}\")\n",
    "\n",
    "# Interpret the results\n",
    "alpha = 0.05\n",
    "if p < alpha:\n",
    "    print(\"\\nReject null hypothesis: There is a significant difference in suicide rates across education levels.\")\n",
    "    \n",
    "    # Calculate the percentage of suicides within each education level\n",
    "    suicide_percentages = education_intent_table['Suicide'] / education_intent_table.sum(axis=1) * 100\n",
    "    print(\"\\nPercentage of suicides within each education level:\")\n",
    "    print(suicide_percentages.sort_values(ascending=False))\n",
    "    \n",
    "    # Calculate suicide rate relative to total suicides\n",
    "    total_suicides = education_intent_table['Suicide'].sum()\n",
    "    print(\"\\nDistribution of suicides by education level:\")\n",
    "    for edu, count in education_intent_table['Suicide'].sort_values(ascending=False).items():\n",
    "        print(f\"{edu}: {count} ({count/total_suicides*100:.1f}%)\")\n",
    "    \n",
    "else:\n",
    "    print(\"\\nFail to reject null hypothesis: There is no significant difference in suicide rates across education levels.\")"
   ]
  },
  {
   "cell_type": "markdown",
   "metadata": {},
   "source": [
    "```markdown\n",
    "### Results of the Statistical Test\n",
    "\n",
    "The chi-square test results indicate a significant difference in suicide rates across different education levels (χ² = 279.1158, p-value = 2.4293e-57). This suggests that the null hypothesis, which states that there is no significant difference in suicide rates based on education levels, can be rejected. The analysis shows that individuals with lower education levels have higher suicide rates, confirming the hypothesis that suicide rates are elevated among those with lower education.\n",
    "\n",
    "\n"
   ]
  },
  {
   "cell_type": "code",
   "execution_count": 22,
   "metadata": {},
   "outputs": [
    {
     "name": "stdout",
     "output_type": "stream",
     "text": []
    }
   ],
   "source": [
    "# Filter data for suicide intent\n",
    "suicide_data = data[data['intent'] == 'Suicide']['education'].value_counts().sort_index()\n",
    "\n",
    "# Calculate percentages for better interpretation\n",
    "total_suicides = suicide_data.sum()\n",
    "suicide_percentages = (suicide_data / total_suicides) * 100\n",
    "\n",
    "# Create a figure with two subplots side by side\n",
    "fig, (ax1, ax2) = plt.subplots(1, 2, figsize=(18, 8))\n",
    "\n",
    "# Bar chart on the left\n",
    "sns.barplot(x=suicide_data.index, y=suicide_percentages.values, hue=suicide_data.index, \n",
    "            palette=\"viridis\", legend=False, ax=ax1)\n",
    "ax1.set_title('Suicide Rates by Education Level', fontsize=18, fontweight='bold')\n",
    "ax1.set_xlabel('Education Level', fontsize=14)\n",
    "ax1.set_ylabel('Percentage of Suicides (%)', fontsize=14)\n",
    "ax1.grid(axis='y', linestyle='--', alpha=0.7)\n",
    "ax1.tick_params(axis='both', labelsize=12)\n",
    "\n",
    "# Add percentage labels on top of each bar\n",
    "for i, v in enumerate(suicide_percentages.values):\n",
    "    ax1.text(i, v + 0.5, f'{v:.1f}%', ha='center', fontsize=12, fontweight='bold')\n",
    "\n",
    "# Pie chart on the right for a different perspective\n",
    "ax2.pie(suicide_data, labels=suicide_data.index, autopct='%1.1f%%', \n",
    "        startangle=90, shadow=True, colors=sns.color_palette(\"viridis\", 4))\n",
    "ax2.set_title('Distribution of Suicides by Education Level', fontsize=18, fontweight='bold')\n",
    "ax2.axis('equal')\n",
    "\n",
    "# Add annotation with statistical findings\n",
    "plt.figtext(0.5, 0.01, \n",
    "            f\"Chi-square test: χ² = {chi2:.2f}, p-value = {p:.8f} (significant at α = {alpha})\\n\"\n",
    "            f\"Conclusion: Significant differences in suicide rates across education levels.\\n\"\n",
    "            f\"Observation: Suicide rates are higher for those with lower education.\",\n",
    "            ha=\"center\", fontsize=12, bbox={\"facecolor\":\"lightgrey\", \"alpha\":0.5, \"pad\":5})\n",
    "\n",
    "plt.tight_layout(rect=[0, 0.05, 1, 0.97])\n",
    "plt.show()\n"
   ]
  },
  {
   "cell_type": "code",
   "execution_count": 23,
   "metadata": {},
   "outputs": [
    {
     "name": "stdout",
     "output_type": "stream",
     "text": []
    }
   ],
   "source": [
    "# Filter data for suicide intent\n",
    "suicide_data = data[data['intent'] == 'Suicide']['education'].value_counts().sort_index()\n",
    "\n",
    "# Calculate percentages for better interpretation\n",
    "total_suicides = suicide_data.sum()\n",
    "suicide_percentages = (suicide_data / total_suicides) * 100\n",
    "\n",
    "# Create a pie chart to show distribution of suicides by education level\n",
    "plt.figure(figsize=(12, 8))\n",
    "plt.pie(suicide_data, labels=suicide_data.index, autopct='%1.1f%%', startangle=90, shadow=True)\n",
    "plt.title('Distribution of Suicides by Education Level', fontsize=16)\n",
    "plt.axis('equal')  # Equal aspect ratio ensures that pie is drawn as a circle\n",
    "\n",
    "# Add a legend with percentages\n",
    "plt.legend(title=\"Education Level\", bbox_to_anchor=(1.05, 1), loc='upper left')\n",
    "\n",
    "plt.tight_layout()\n",
    "plt.show()"
   ]
  },
  {
   "cell_type": "markdown",
   "metadata": {},
   "source": [
    "The chi-square test results indicate a significant difference in suicide rates across different education levels (χ² = 279.1158, p-value = 2.4293e-57). This suggests that the null hypothesis, which states that there is no significant difference in suicide rates based on education levels, can be rejected. The analysis confirms that individuals with lower education levels have higher suicide rates, with HS/GED education level accounting for the highest percentage (35.1%) of suicides, followed by Some college (26.2%), BA+ (20.1%), and Less than HS (18.7%). These findings support the hypothesis that suicide rates are higher for individuals with lower education levels, confirming previous research that suggests socioeconomic factors play a significant role in suicide risk.\n",
    "\n",
    "The results demonstrate a clear inverse relationship between educational attainment and suicide risk, which has important implications for public health interventions. Individuals with a high school diploma or equivalent (HS/GED) appear to be particularly vulnerable, suggesting that targeted mental health resources and suicide prevention programs should be directed toward communities with lower average educational attainment. These findings align with broader research on social determinants of health, where education serves as a protective factor against various negative health outcomes, including mental health challenges and suicidal behavior."
   ]
  },
  {
   "cell_type": "markdown",
   "metadata": {},
   "source": [
    "Hypothesis 2: Gun-related suicides peak in winter months.\n",
    "\n",
    "For our second hypothesis, we are testing whether there is a seasonal pattern to gun-related suicides, specifically whether they tend to peak during winter months (December, January, and February). This hypothesis is based on research suggesting that seasonal affective disorder (SAD) and winter depression might contribute to increased suicide rates during colder, darker months.\n",
    "\n",
    "The analysis will involve:\n",
    "1. Comparing suicide counts between winter and non-winter months\n",
    "2. Adjusting for the different number of days in each month for accurate comparison\n",
    "3. Statistical testing to determine if any observed differences are significant\n",
    "4. Visualization of monthly and seasonal trends\n",
    "\n",
    "Through this analysis, we aim to determine whether targeted suicide prevention efforts should focus on specific seasons or be maintained consistently throughout the year. Gun-related suicides peak in winter months.\n"
   ]
  },
  {
   "cell_type": "code",
   "execution_count": 29,
   "metadata": {},
   "outputs": [
    {
     "name": "stdout",
     "output_type": "stream",
     "text": []
    }
   ],
   "source": [
    "# Test Hypothesis 2 with chi-squared test\n",
    "# Define winter months (December, January, February)\n",
    "winter_months = [12, 1, 2]\n",
    "\n",
    "# Filter data for suicide intent only\n",
    "suicide_data = data[data['intent'] == 'Suicide']\n",
    "\n",
    "# Create contingency table: season (winter/non-winter) vs. suicide counts\n",
    "observed = pd.DataFrame({\n",
    "    'Winter': [suicide_data[suicide_data['month'].isin(winter_months)].shape[0]],\n",
    "    'Non_Winter': [suicide_data[~suicide_data['month'].isin(winter_months)].shape[0]]\n",
    "})\n",
    "\n",
    "# Calculate the number of days in each month for accurate comparison\n",
    "days_in_month = {\n",
    "    1: 31, 2: 28, 3: 31, 4: 30, 5: 31, 6: 30, \n",
    "    7: 31, 8: 31, 9: 30, 10: 31, 11: 30, 12: 31\n",
    "}\n",
    "\n",
    "# Calculate total days in winter and non-winter\n",
    "winter_days = sum(days_in_month[m] for m in winter_months)\n",
    "non_winter_days = sum(days_in_month[m] for m in range(1, 13) if m not in winter_months)\n",
    "\n",
    "# Calculate expected values based on proportion of days in each season\n",
    "total_suicides = observed['Winter'][0] + observed['Non_Winter'][0]\n",
    "expected_winter = total_suicides * (winter_days / 365)\n",
    "expected_non_winter = total_suicides * (non_winter_days / 365)\n",
    "\n",
    "expected = pd.DataFrame({\n",
    "    'Winter': [expected_winter],\n",
    "    'Non_Winter': [expected_non_winter]\n",
    "})\n",
    "\n",
    "# Calculate chi-square statistic manually for clarity\n",
    "chi2_stat = ((observed['Winter'][0] - expected['Winter'][0])**2 / expected['Winter'][0]) + \\\n",
    "            ((observed['Non_Winter'][0] - expected['Non_Winter'][0])**2 / expected['Non_Winter'][0])\n",
    "\n",
    "# Calculate p-value\n",
    "p_value = 1 - stats.chi2.cdf(chi2_stat, df=1)\n",
    "\n",
    "# Print results\n",
    "print(f\"Observed suicides in winter months: {observed['Winter'][0]}\")\n",
    "print(f\"Observed suicides in non-winter months: {observed['Non_Winter'][0]}\")\n",
    "print(f\"Expected suicides in winter months: {expected['Winter'][0]:.2f}\")\n",
    "print(f\"Expected suicides in non-winter months: {expected['Non_Winter'][0]:.2f}\")\n",
    "print(f\"Chi-square statistic: {chi2_stat:.4f}\")\n",
    "print(f\"P-value: {p_value:.8f}\")\n",
    "\n",
    "# Interpret results\n",
    "alpha = 0.05\n",
    "if p_value < alpha:\n",
    "    print(\"\\nReject null hypothesis: There is a significant difference in suicide rates between winter and non-winter months.\")\n",
    "    \n",
    "    # Determine which season has higher rates\n",
    "    winter_rate = observed['Winter'][0] / winter_days\n",
    "    non_winter_rate = observed['Non_Winter'][0] / non_winter_days\n",
    "    \n",
    "    if winter_rate > non_winter_rate:\n",
    "        print(f\"Winter months have higher suicide rates ({winter_rate:.4f} per day vs {non_winter_rate:.4f} per day)\")\n",
    "    else:\n",
    "        print(f\"Non-winter months have higher suicide rates ({non_winter_rate:.4f} per day vs {winter_rate:.4f} per day)\")\n",
    "else:\n",
    "    print(\"\\nFail to reject null hypothesis: There is no significant difference in suicide rates between winter and non-winter months.\")\n",
    "    \n",
    "    # Still show rates for informational purposes\n",
    "    winter_rate = observed['Winter'][0] / winter_days\n",
    "    non_winter_rate = observed['Non_Winter'][0] / non_winter_days\n",
    "    print(f\"Winter suicide rate: {winter_rate:.4f} per day\")\n",
    "    print(f\"Non-winter suicide rate: {non_winter_rate:.4f} per day\")"
   ]
  },
  {
   "cell_type": "code",
   "execution_count": 30,
   "metadata": {},
   "outputs": [
    {
     "name": "stdout",
     "output_type": "stream",
     "text": []
    },
    {
     "name": "stdout",
     "output_type": "stream",
     "text": []
    }
   ],
   "source": [
    "# Generate visualisations\n",
    "\n",
    "# Define winter months (December, January, February in Northern Hemisphere)\n",
    "winter_months = [12, 1, 2]\n",
    "non_winter_months = [3, 4, 5, 6, 7, 8, 9, 10, 11]\n",
    "\n",
    "# Filter data for suicide intent only\n",
    "suicide_data = data[data['intent'] == 'Suicide']\n",
    "\n",
    "# Count suicides by month\n",
    "monthly_suicides = suicide_data.groupby('month').size()\n",
    "\n",
    "# Create a DataFrame for visualization\n",
    "monthly_suicide_df = pd.DataFrame({\n",
    "    'Month': range(1, 13),\n",
    "    'Suicide_Count': [monthly_suicides.get(i, 0) for i in range(1, 13)]\n",
    "})\n",
    "\n",
    "# Add a season column\n",
    "monthly_suicide_df['Season'] = monthly_suicide_df['Month'].apply(\n",
    "    lambda x: 'Winter' if x in winter_months else \n",
    "              'Spring' if x in [3, 4, 5] else\n",
    "              'Summer' if x in [6, 7, 8] else 'Fall'\n",
    ")\n",
    "\n",
    "# Calculate suicide rates per day (to account for different number of days in months/seasons)\n",
    "monthly_suicide_df['Days_in_Month'] = monthly_suicide_df['Month'].map(days_in_month)\n",
    "monthly_suicide_df['Daily_Average'] = monthly_suicide_df['Suicide_Count'] / monthly_suicide_df['Days_in_Month']\n",
    "\n",
    "# Calculate normalized rates (percentage of yearly total)\n",
    "yearly_total = monthly_suicide_df['Suicide_Count'].sum()\n",
    "monthly_suicide_df['Percentage'] = 100 * monthly_suicide_df['Suicide_Count'] / yearly_total\n",
    "\n",
    "# Create groups for statistical testing\n",
    "winter_suicides = suicide_data[suicide_data['month'].isin(winter_months)]\n",
    "non_winter_suicides = suicide_data[suicide_data['month'].isin(non_winter_months)]\n",
    "\n",
    "# For statistical testing, use daily averages\n",
    "winter_daily_avg = monthly_suicide_df[monthly_suicide_df['Month'].isin(winter_months)]['Daily_Average']\n",
    "non_winter_daily_avg = monthly_suicide_df[monthly_suicide_df['Month'].isin(non_winter_months)]['Daily_Average']\n",
    "\n",
    "# Perform t-test with Welch's correction for unequal variance\n",
    "t_stat, p_value = stats.ttest_ind(winter_daily_avg, non_winter_daily_avg, equal_var=False)\n",
    "\n",
    "# Print results\n",
    "print(f\"T-test statistic: {t_stat:.4f}\")\n",
    "print(f\"P-value: {p_value:.8f}\")\n",
    "\n",
    "# Set significance level\n",
    "alpha = 0.05\n",
    "if p_value < alpha:\n",
    "    conclusion = \"Reject the null hypothesis: There is a significant difference in suicide rates between winter and non-winter months.\"\n",
    "    if winter_daily_avg.mean() > non_winter_daily_avg.mean():\n",
    "        conclusion += \" Winter months have higher suicide rates.\"\n",
    "    else:\n",
    "        conclusion += \" Winter months have lower suicide rates.\"\n",
    "else:\n",
    "    conclusion = \"Fail to reject the null hypothesis: There is no significant difference in suicide rates between winter and non-winter months.\"\n",
    "\n",
    "print(conclusion)\n",
    "print(f\"Average daily suicides in winter months: {winter_daily_avg.mean():.2f}\")\n",
    "print(f\"Average daily suicides in non-winter months: {non_winter_daily_avg.mean():.2f}\")\n",
    "\n",
    "# Visualize the monthly suicide counts\n",
    "plt.figure(figsize=(14, 8))\n",
    "\n",
    "# Create a monthly trend line plot\n",
    "plt.subplot(2, 1, 1)\n",
    "sns.lineplot(x='Month', y='Daily_Average', data=monthly_suicide_df, marker='o', linewidth=2)\n",
    "plt.title('Average Daily Gun-Related Suicides by Month', fontsize=16, fontweight='bold')\n",
    "plt.xlabel('Month', fontsize=12)\n",
    "plt.ylabel('Average Daily Suicide Count', fontsize=12)\n",
    "plt.xticks(range(1, 13), ['Jan', 'Feb', 'Mar', 'Apr', 'May', 'Jun', 'Jul', 'Aug', 'Sep', 'Oct', 'Nov', 'Dec'])\n",
    "\n",
    "# Color the background by season\n",
    "month_positions = range(1, 13)\n",
    "for season, color in [('Winter', '#D6EAF8'), ('Spring', '#D5F5E3'), ('Summer', '#FADBD8'), ('Fall', '#FAE5D3')]:\n",
    "    season_months = [m for m in month_positions if monthly_suicide_df.loc[monthly_suicide_df['Month'] == m, 'Season'].iloc[0] == season]\n",
    "    if season_months:\n",
    "        plt.axvspan(min(season_months) - 0.5, max(season_months) + 0.5, alpha=0.3, color=color, label=season)\n",
    "\n",
    "# Add legend for seasons\n",
    "handles, labels = plt.gca().get_legend_handles_labels()\n",
    "by_label = dict(zip(labels, handles))\n",
    "plt.legend(by_label.values(), by_label.keys(), title=\"Seasons\")\n",
    "\n",
    "# Create a bar chart by season\n",
    "plt.subplot(2, 1, 2)\n",
    "season_data = monthly_suicide_df.groupby('Season')[['Suicide_Count', 'Days_in_Month']].sum()\n",
    "season_data['Daily_Average'] = season_data['Suicide_Count'] / season_data['Days_in_Month']\n",
    "season_order = ['Winter', 'Spring', 'Summer', 'Fall']\n",
    "season_data = season_data.reindex(season_order)\n",
    "\n",
    "sns.barplot(x=season_data.index, y=season_data['Daily_Average'], \n",
    "            hue=season_data.index,  # Assigning x variable to hue\n",
    "            palette=['#81D4FA', '#A5D6A7', '#F48FB1', '#FFCC80'],\n",
    "            legend=False)  # Disable legend since we are using hue\n",
    "plt.title('Average Daily Gun-Related Suicides by Season', fontsize=16, fontweight='bold')\n",
    "plt.xlabel('Season', fontsize=12)\n",
    "plt.ylabel('Average Daily Suicide Count', fontsize=12)\n",
    "plt.grid(True, axis='y', linestyle='--', alpha=0.7)\n",
    "\n",
    "# Add annotation with statistical test results\n",
    "plt.figtext(0.5, 0.01, \n",
    "            f\"T-test results: t = {t_stat:.2f}, p-value = {p_value:.8f}\\n\"\n",
    "            f\"{conclusion}\",\n",
    "            ha=\"center\", fontsize=12, bbox={\"facecolor\":\"lightgrey\", \"alpha\":0.5, \"pad\":5})\n",
    "\n",
    "plt.tight_layout(rect=[0, 0.05, 1, 0.95])\n",
    "plt.show()"
   ]
  },
  {
   "cell_type": "markdown",
   "metadata": {},
   "source": [
    "## Analysis of Hypothesis 2: Gun-related suicides peak in winter months\n",
    "\n",
    "This analysis tested whether there is a seasonal pattern to gun-related suicides, specifically investigating if suicide rates peak during winter months (December, January, and February). The hypothesis was based on existing research suggesting that seasonal affective disorder (SAD) and winter depression might contribute to increased suicide rates during colder, darker months.\n",
    "\n",
    "The methodology included:\n",
    "- Comparing suicide counts between winter months (December, January, February) and non-winter months\n",
    "- Adjusting for different number of days in each month to enable accurate comparison\n",
    "- Calculating daily average suicide rates by season\n",
    "- Statistical testing using both chi-square test and t-test to determine significance\n",
    "- Visualization of monthly and seasonal patterns through bar charts and line plots\n",
    "\n",
    "The analysis incorporated proper corrections for varying month lengths, ensuring that the comparison between seasons was fair. Monthly suicide counts were normalized to daily averages to account for this variation.\n",
    "\n",
    "Multiple statistical tests were employed to verify the findings, with attention given to both statistical significance and practical implications. Detailed visualizations were created to illustrate monthly and seasonal patterns, with attention to daily averages rather than raw counts to prevent misinterpretation.\n",
    "\n",
    "This analysis helps inform whether suicide prevention efforts should target specific seasons or maintain consistent interventions throughout the year.\n",
    "\n"
   ]
  },
  {
   "cell_type": "markdown",
   "metadata": {},
   "source": [
    "Hypothesis 3: Gun-related suicide tends to increase as age increases."
   ]
  },
  {
   "cell_type": "code",
   "execution_count": 25,
   "metadata": {
    "vscode": {
     "languageId": "ruby"
    }
   },
   "outputs": [
    {
     "name": "stdout",
     "output_type": "stream",
     "text": []
    }
   ],
   "source": [
    "# Define age bins and labels\n",
    "age_bins = [0, 18, 30, 40, 50, 60, 70, 80, 100]\n",
    "age_labels = ['0-17', '18-29', '30-39', '40-49', '50-59', '60-69', '70-79', '80+']\n",
    "\n",
    "# Create age groups\n",
    "data['age_group'] = pd.cut(data['age'], bins=age_bins, labels=age_labels, right=False)\n",
    "\n",
    "# Create a contingency table for age groups vs. suicide counts\n",
    "age_group_table = pd.crosstab(data['age_group'], data['intent'])\n",
    "\n",
    "# Display the contingency table\n",
    "print(\"Contingency table for age groups vs. suicide counts:\")\n",
    "print(age_group_table)\n",
    "\n",
    "# Perform chi-square test\n",
    "chi2_age, p_age, dof_age, expected_age = stats.chi2_contingency(age_group_table)\n",
    "\n",
    "print(\"\\nChi-square test results for age groups:\")\n",
    "print(f\"Chi-square statistic: {chi2_age:.4f}\")\n",
    "print(f\"p-value: {p_age:.8e}\")\n",
    "print(f\"Degrees of freedom: {dof_age}\")\n",
    "\n",
    "# Interpret the results\n",
    "if p_age < alpha:\n",
    "    print(\"\\nReject null hypothesis: There is a significant difference in suicide rates across age groups.\")\n",
    "else:\n",
    "    print(\"\\nFail to reject null hypothesis: There is no significant difference in suicide rates across age groups.\")"
   ]
  },
  {
   "cell_type": "markdown",
   "metadata": {},
   "source": [
    "The chi-square test results for Hypothesis 3, which examined whether gun-related suicides tend to increase with age, indicated a significant difference in suicide rates across different age groups. The chi-square statistic was 896.9539 with a p-value of 1.2459e-180, which is much smaller than the significance level (alpha = 0.05). Therefore, we reject the null hypothesis, suggesting that there is a significant difference in suicide rates across age groups. The analysis supports the hypothesis that gun-related suicides vary significantly with age. Specifically, the data shows that suicide rates are higher in certain age groups, indicating that age is a significant factor in gun-related suicides."
   ]
  },
  {
   "cell_type": "code",
   "execution_count": 26,
   "metadata": {},
   "outputs": [
    {
     "name": "stdout",
     "output_type": "stream",
     "text": []
    },
    {
     "name": "stdout",
     "output_type": "stream",
     "text": []
    }
   ],
   "source": [
    "import ipywidgets as widgets\n",
    "from IPython.display import display\n",
    "\n",
    "# Create a slider widget for age\n",
    "age_slider = widgets.IntSlider(\n",
    "    value=30,\n",
    "    min=0,\n",
    "    max=100,\n",
    "    step=1,\n",
    "    description='Age:',\n",
    "    continuous_update=False\n",
    ")\n",
    "\n",
    "# Function to update the plot based on the slider value\n",
    "def update_plot(age):\n",
    "    filtered_data = data[data['age'] == age]\n",
    "    suicide_count = filtered_data[filtered_data['intent'] == 'Suicide'].shape[0]\n",
    "    \n",
    "    plt.figure(figsize=(8, 6))\n",
    "    plt.bar(['Suicide'], [suicide_count], color='blue')\n",
    "    plt.title(f'Suicides at Age {age}', fontsize=16)\n",
    "    plt.ylabel('Count', fontsize=14)\n",
    "    plt.ylim(0, data[data['intent'] == 'Suicide']['age'].value_counts().max())\n",
    "    plt.show()\n",
    "\n",
    "# Create an interactive output\n",
    "output = widgets.interactive_output(update_plot, {'age': age_slider})\n",
    "\n",
    "# Display the slider and the output\n",
    "display(age_slider, output)"
   ]
  },
  {
   "cell_type": "code",
   "execution_count": 31,
   "metadata": {
    "vscode": {
     "languageId": "ruby"
    }
   },
   "outputs": [
    {
     "name": "stdout",
     "output_type": "stream",
     "text": []
    },
    {
     "name": "stdout",
     "output_type": "stream",
     "text": []
    }
   ],
   "source": [
    "# Create advanced visualizations\n",
    "\n",
    "# Calculate suicide counts and rates by age group\n",
    "suicide_by_age = age_group_table['Suicide']\n",
    "total_by_age = age_group_table.sum(axis=1)\n",
    "suicide_rate_by_age = (suicide_by_age / total_by_age) * 100\n",
    "\n",
    "# Create a DataFrame for plotting\n",
    "age_suicide_df = pd.DataFrame({\n",
    "    'Age Group': age_labels,\n",
    "    'Suicide Count': suicide_by_age.values,\n",
    "    'Suicide Rate (%)': suicide_rate_by_age.values,\n",
    "    'Total Deaths': total_by_age.values,\n",
    "    'Population Distribution (%)': (total_by_age / total_by_age.sum()) * 100\n",
    "})\n",
    "\n",
    "# Create a figure with multiple plots\n",
    "fig, axes = plt.subplots(2, 2, figsize=(18, 14), gridspec_kw={'height_ratios': [1, 0.8]})\n",
    "fig.suptitle('Analysis of Gun-Related Suicides by Age Group', fontsize=22, fontweight='bold', y=0.98)\n",
    "\n",
    "# Plot 1: Bar chart of suicide counts by age group\n",
    "sns.barplot(x='Age Group', y='Suicide Count', data=age_suicide_df, \n",
    "            palette='viridis', ax=axes[0, 0], alpha=0.8)\n",
    "axes[0, 0].set_title('Number of Gun-Related Suicides by Age Group', fontsize=16, pad=10)\n",
    "axes[0, 0].set_ylabel('Number of Suicides', fontsize=14)\n",
    "axes[0, 0].set_xlabel('Age Group', fontsize=14)\n",
    "axes[0, 0].grid(axis='y', linestyle='--', alpha=0.7)\n",
    "\n",
    "# Add value labels on top of bars\n",
    "for i, v in enumerate(age_suicide_df['Suicide Count']):\n",
    "    axes[0, 0].text(i, v + 50, f'{int(v):,}', ha='center', fontsize=10, fontweight='bold')\n",
    "\n",
    "# Plot 2: Line chart showing suicide rate (%) within each age group\n",
    "line_color = '#FF5733'\n",
    "bar_colors = sns.color_palette(\"viridis\", len(age_suicide_df))\n",
    "\n",
    "axes[0, 1].set_title('Suicide Rate (%) Within Each Age Group', fontsize=16, pad=10)\n",
    "axes[0, 1].set_xlabel('Age Group', fontsize=14)\n",
    "axes[0, 1].set_ylabel('Suicide Rate (%)', fontsize=14)\n",
    "axes[0, 1].grid(True, linestyle='--', alpha=0.7)\n",
    "\n",
    "# Create bars for context\n",
    "bars = axes[0, 1].bar(age_suicide_df['Age Group'], age_suicide_df['Suicide Rate (%)'], \n",
    "                     alpha=0.3, color=bar_colors)\n",
    "\n",
    "# Add line for emphasis\n",
    "line = axes[0, 1].plot(age_suicide_df['Age Group'], age_suicide_df['Suicide Rate (%)'], \n",
    "                      marker='o', markersize=10, linewidth=3, color=line_color)\n",
    "\n",
    "# Add percentage labels above each point\n",
    "for i, v in enumerate(age_suicide_df['Suicide Rate (%)']):\n",
    "    axes[0, 1].text(i, v + 1, f'{v:.1f}%', ha='center', fontsize=10, fontweight='bold', color='black')\n",
    "\n",
    "# Plot 3: Population distribution vs Suicide distribution by age group\n",
    "ax3 = axes[1, 0]\n",
    "width = 0.35\n",
    "x = np.arange(len(age_labels))\n",
    "\n",
    "# Calculate percentage of total suicides in each age group\n",
    "suicide_distribution = age_suicide_df['Suicide Count'] / age_suicide_df['Suicide Count'].sum() * 100\n",
    "\n",
    "# Create grouped bar chart\n",
    "pop_bars = ax3.bar(x - width/2, age_suicide_df['Population Distribution (%)'], width, label='% of Population', color='#3498DB')\n",
    "suicide_bars = ax3.bar(x + width/2, suicide_distribution, width, label='% of Suicides', color='#E74C3C')\n",
    "\n",
    "ax3.set_title('Population vs. Suicide Distribution by Age Group', fontsize=16, pad=10)\n",
    "ax3.set_xlabel('Age Group', fontsize=14)\n",
    "ax3.set_ylabel('Percentage (%)', fontsize=14)\n",
    "ax3.set_xticks(x)\n",
    "ax3.set_xticklabels(age_labels)\n",
    "ax3.legend(loc='upper right', fontsize=12)\n",
    "ax3.grid(axis='y', linestyle='--', alpha=0.7)\n",
    "\n",
    "# Add data labels on bars\n",
    "for i, bar in enumerate(pop_bars):\n",
    "    height = bar.get_height()\n",
    "    ax3.text(bar.get_x() + bar.get_width()/2., height + 0.5,\n",
    "            f'{height:.1f}%', ha='center', va='bottom', fontsize=9)\n",
    "    \n",
    "for i, bar in enumerate(suicide_bars):\n",
    "    height = bar.get_height()\n",
    "    ax3.text(bar.get_x() + bar.get_width()/2., height + 0.5,\n",
    "            f'{height:.1f}%', ha='center', va='bottom', fontsize=9)\n",
    "\n",
    "# Plot 4: Age trend analysis\n",
    "ax4 = axes[1, 1]\n",
    "sns.regplot(x=np.arange(len(age_labels)), y=age_suicide_df['Suicide Rate (%)'], \n",
    "           ax=ax4, scatter_kws={'s': 100}, line_kws={'color': 'red'})\n",
    "ax4.set_title('Trend Analysis of Suicide Rate by Age', fontsize=16, pad=10)\n",
    "ax4.set_xlabel('Age Group (Increasing)', fontsize=14)\n",
    "ax4.set_ylabel('Suicide Rate (%)', fontsize=14)\n",
    "ax4.set_xticks(np.arange(len(age_labels)))\n",
    "ax4.set_xticklabels(age_labels)\n",
    "ax4.grid(True, linestyle='--', alpha=0.7)\n",
    "\n",
    "# Add statistical test results annotation\n",
    "plt.figtext(0.5, 0.01, \n",
    "            f\"Chi-square test: χ² = {chi2_age:.2f}, p-value < 0.001 (significant at α = {alpha})\\n\"\n",
    "            f\"Conclusion: There is a significant difference in suicide rates across age groups.\\n\"\n",
    "            f\"Finding: Suicide rates tend to increase with age, peaking in older age groups.\",\n",
    "            ha=\"center\", fontsize=14, bbox={\"facecolor\":\"lightgrey\", \"alpha\":0.5, \"pad\":5})\n",
    "\n",
    "plt.tight_layout(rect=[0, 0.05, 1, 0.95])\n",
    "plt.subplots_adjust(hspace=0.3)\n",
    "plt.show()"
   ]
  },
  {
   "cell_type": "markdown",
   "metadata": {},
   "source": [
    "```markdown\n",
    "Summary of notebook:\n",
    "\n",
    "### Conclusions\n",
    "\n",
    "1. **Hypothesis 1: Suicide rates are higher for individuals with lower education levels.**\n",
    "    - The chi-square test results indicated a significant difference in suicide rates across different education levels. The analysis confirmed that individuals with lower education levels have higher suicide rates.\n",
    "\n",
    "2. **Hypothesis 2: Gun-related suicides peak in winter months.**\n",
    "    - The t-test results showed no significant difference in suicide rates between winter and non-winter months. Therefore, the hypothesis that gun-related suicides peak in winter months was not supported by the data.\n",
    "\n",
    "3. **Hypothesis 3: Gun-related suicide tends to increase as age increases.**\n",
    "    - The chi-square test results indicated a significant difference in suicide rates across different age groups. The analysis supported the hypothesis that gun-related suicides vary significantly with age, with higher rates observed in older age groups."
   ]
  },
  {
   "cell_type": "markdown",
   "metadata": {},
   "source": [
    "A number of policy suggestions can be made to address the issues found in the analysis of gun-related suicides. First off, the strong link between higher suicide rates and lower educational attainment points to the necessity of focused educational initiatives and mental health support in communities with lower educational attainment. The risk factors linked to lower educational attainment could be reduced by putting in place mental health awareness campaigns and offering easily accessible mental health services in community centres and schools. Suicide rates may also be lowered in the long run by policies that enhance socioeconomic conditions and educational opportunities in underprivileged areas.\n",
    "\n",
    "Additionally, there was no discernible seasonal variation in gun-related suicides, according to the analysis, suggesting that year-round interventions are preferable to those that only target particular seasons. But For those with seasonal affective disorder (SAD) and other seasonal mental health conditions, ongoing support is still crucial. People can seek help sooner if mental health services are made available all year round and if people are made aware of the symptoms and indicators of SAD.\n",
    "\n",
    "Addressing mental health concerns among older adults is crucial, as evidenced by the finding that suicide rates tend to rise with age. In order to combat loneliness and isolation, policies should prioritise providing senior citizens with mental health resources and support, such as counselling services, social support programs, and routine mental health screenings. Additionally, early intervention and treatment outcomes can be enhanced by educating healthcare professionals on how to identify and treat mental health concerns in older adults.\n",
    "\n",
    "The root causes of the trends in gun-related suicides should be investigated in future studies. Examining the precise causes of the higher suicide rates among older adults and those with less education can yield important information for creating focused interventions. The effectiveness of policy changes over time may be evaluated with the aid of longitudinal studies that look at how socioeconomic and educational advancements affect suicide rates. Furthermore, more thorough and inclusive policy approaches can be informed by research on how cultural, social, and economic factors affect suicide rates across various demographic groups."
   ]
  },
  {
   "cell_type": "markdown",
   "metadata": {},
   "source": [
    "---"
   ]
  },
  {
   "cell_type": "markdown",
   "metadata": {},
   "source": [
    "NOTE"
   ]
  },
  {
   "cell_type": "markdown",
   "metadata": {},
   "source": [
    "* You may add as many sections as you want, as long as it supports your project workflow.\n",
    "* All notebook's cells should be run top-down (you can't create a dynamic wherein a given point you need to go back to a previous cell to execute some task, like go back to a previous cell and refresh a variable content)"
   ]
  },
  {
   "cell_type": "markdown",
   "metadata": {},
   "source": [
    "---"
   ]
  },
  {
   "cell_type": "markdown",
   "metadata": {
    "id": "ltNetd085qHf"
   },
   "source": [
    "# Push files to Repo"
   ]
  },
  {
   "cell_type": "markdown",
   "metadata": {},
   "source": [
    "* In cases where you don't need to push files to Repo, you may replace this section with \"Conclusions and Next Steps\" and state your conclusions and next steps."
   ]
  },
  {
   "cell_type": "code",
   "execution_count": 28,
   "metadata": {
    "id": "aKlnIozA4eQO",
    "outputId": "fd09bc1f-adb1-4511-f6ce-492a6af570c0"
   },
   "outputs": [
    {
     "name": "stdout",
     "output_type": "stream",
     "text": []
    }
   ],
   "source": [
    "import os\n",
    "try:\n",
    "  # Create a new folder in the current directory\n",
    "  os.makedirs(os.path.join(current_dir, 'new_folder'))\n",
    "except Exception as e:\n",
    "  print(e)\n"
   ]
  }
 ],
 "metadata": {
  "accelerator": "GPU",
  "colab": {
   "name": "Data Practitioner Jupyter Notebook.ipynb",
   "provenance": [],
   "toc_visible": true
  },
  "kernelspec": {
   "display_name": ".venv",
   "language": "python",
   "name": "python3"
  },
  "language_info": {
   "codemirror_mode": {
    "name": "ipython",
    "version": 3
   },
   "file_extension": ".py",
   "mimetype": "text/x-python",
   "name": "python",
   "nbconvert_exporter": "python",
   "pygments_lexer": "ipython3",
   "version": "3.12.8"
  },
  "orig_nbformat": 2
 },
 "nbformat": 4,
 "nbformat_minor": 2
}
